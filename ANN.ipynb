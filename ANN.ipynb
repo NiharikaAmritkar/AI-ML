{
  "nbformat": 4,
  "nbformat_minor": 0,
  "metadata": {
    "colab": {
      "provenance": [],
      "gpuType": "T4",
      "authorship_tag": "ABX9TyMXjATFdMJ7qA7Qjcu8bdYq",
      "include_colab_link": true
    },
    "kernelspec": {
      "name": "python3",
      "display_name": "Python 3"
    },
    "language_info": {
      "name": "python"
    },
    "accelerator": "GPU"
  },
  "cells": [
    {
      "cell_type": "markdown",
      "metadata": {
        "id": "view-in-github",
        "colab_type": "text"
      },
      "source": [
        "<a href=\"https://colab.research.google.com/github/NiharikaAmritkar/AI-ML/blob/main/ANN.ipynb\" target=\"_parent\"><img src=\"https://colab.research.google.com/assets/colab-badge.svg\" alt=\"Open In Colab\"/></a>"
      ]
    },
    {
      "cell_type": "code",
      "source": [
        "import numpy as np\n",
        "import pandas as pd\n",
        "import matplotlib.pyplot as plt\n"
      ],
      "metadata": {
        "id": "pDLSq-81R98u"
      },
      "execution_count": null,
      "outputs": []
    },
    {
      "cell_type": "code",
      "source": [
        "dataset= pd.read_csv('/content/Churn_Modelling.csv')\n",
        "dataset.head()"
      ],
      "metadata": {
        "colab": {
          "base_uri": "https://localhost:8080/",
          "height": 270
        },
        "id": "OKv69QJsSYOJ",
        "outputId": "386cfa21-81cd-4438-8068-f7b37d803773"
      },
      "execution_count": null,
      "outputs": [
        {
          "output_type": "execute_result",
          "data": {
            "text/plain": [
              "   RowNumber  CustomerId   Surname  CreditScore Geography  Gender  Age  \\\n",
              "0          1    15634602  Hargrave          619    France  Female   42   \n",
              "1          2    15647311      Hill          608     Spain  Female   41   \n",
              "2          3    15619304      Onio          502    France  Female   42   \n",
              "3          4    15701354      Boni          699    France  Female   39   \n",
              "4          5    15737888  Mitchell          850     Spain  Female   43   \n",
              "\n",
              "   Tenure    Balance  NumOfProducts  HasCrCard  IsActiveMember  \\\n",
              "0       2       0.00              1          1               1   \n",
              "1       1   83807.86              1          0               1   \n",
              "2       8  159660.80              3          1               0   \n",
              "3       1       0.00              2          0               0   \n",
              "4       2  125510.82              1          1               1   \n",
              "\n",
              "   EstimatedSalary  Exited  \n",
              "0        101348.88       1  \n",
              "1        112542.58       0  \n",
              "2        113931.57       1  \n",
              "3         93826.63       0  \n",
              "4         79084.10       0  "
            ],
            "text/html": [
              "\n",
              "  <div id=\"df-eff553e9-ae1f-48d2-9052-e2b184a97aa0\">\n",
              "    <div class=\"colab-df-container\">\n",
              "      <div>\n",
              "<style scoped>\n",
              "    .dataframe tbody tr th:only-of-type {\n",
              "        vertical-align: middle;\n",
              "    }\n",
              "\n",
              "    .dataframe tbody tr th {\n",
              "        vertical-align: top;\n",
              "    }\n",
              "\n",
              "    .dataframe thead th {\n",
              "        text-align: right;\n",
              "    }\n",
              "</style>\n",
              "<table border=\"1\" class=\"dataframe\">\n",
              "  <thead>\n",
              "    <tr style=\"text-align: right;\">\n",
              "      <th></th>\n",
              "      <th>RowNumber</th>\n",
              "      <th>CustomerId</th>\n",
              "      <th>Surname</th>\n",
              "      <th>CreditScore</th>\n",
              "      <th>Geography</th>\n",
              "      <th>Gender</th>\n",
              "      <th>Age</th>\n",
              "      <th>Tenure</th>\n",
              "      <th>Balance</th>\n",
              "      <th>NumOfProducts</th>\n",
              "      <th>HasCrCard</th>\n",
              "      <th>IsActiveMember</th>\n",
              "      <th>EstimatedSalary</th>\n",
              "      <th>Exited</th>\n",
              "    </tr>\n",
              "  </thead>\n",
              "  <tbody>\n",
              "    <tr>\n",
              "      <th>0</th>\n",
              "      <td>1</td>\n",
              "      <td>15634602</td>\n",
              "      <td>Hargrave</td>\n",
              "      <td>619</td>\n",
              "      <td>France</td>\n",
              "      <td>Female</td>\n",
              "      <td>42</td>\n",
              "      <td>2</td>\n",
              "      <td>0.00</td>\n",
              "      <td>1</td>\n",
              "      <td>1</td>\n",
              "      <td>1</td>\n",
              "      <td>101348.88</td>\n",
              "      <td>1</td>\n",
              "    </tr>\n",
              "    <tr>\n",
              "      <th>1</th>\n",
              "      <td>2</td>\n",
              "      <td>15647311</td>\n",
              "      <td>Hill</td>\n",
              "      <td>608</td>\n",
              "      <td>Spain</td>\n",
              "      <td>Female</td>\n",
              "      <td>41</td>\n",
              "      <td>1</td>\n",
              "      <td>83807.86</td>\n",
              "      <td>1</td>\n",
              "      <td>0</td>\n",
              "      <td>1</td>\n",
              "      <td>112542.58</td>\n",
              "      <td>0</td>\n",
              "    </tr>\n",
              "    <tr>\n",
              "      <th>2</th>\n",
              "      <td>3</td>\n",
              "      <td>15619304</td>\n",
              "      <td>Onio</td>\n",
              "      <td>502</td>\n",
              "      <td>France</td>\n",
              "      <td>Female</td>\n",
              "      <td>42</td>\n",
              "      <td>8</td>\n",
              "      <td>159660.80</td>\n",
              "      <td>3</td>\n",
              "      <td>1</td>\n",
              "      <td>0</td>\n",
              "      <td>113931.57</td>\n",
              "      <td>1</td>\n",
              "    </tr>\n",
              "    <tr>\n",
              "      <th>3</th>\n",
              "      <td>4</td>\n",
              "      <td>15701354</td>\n",
              "      <td>Boni</td>\n",
              "      <td>699</td>\n",
              "      <td>France</td>\n",
              "      <td>Female</td>\n",
              "      <td>39</td>\n",
              "      <td>1</td>\n",
              "      <td>0.00</td>\n",
              "      <td>2</td>\n",
              "      <td>0</td>\n",
              "      <td>0</td>\n",
              "      <td>93826.63</td>\n",
              "      <td>0</td>\n",
              "    </tr>\n",
              "    <tr>\n",
              "      <th>4</th>\n",
              "      <td>5</td>\n",
              "      <td>15737888</td>\n",
              "      <td>Mitchell</td>\n",
              "      <td>850</td>\n",
              "      <td>Spain</td>\n",
              "      <td>Female</td>\n",
              "      <td>43</td>\n",
              "      <td>2</td>\n",
              "      <td>125510.82</td>\n",
              "      <td>1</td>\n",
              "      <td>1</td>\n",
              "      <td>1</td>\n",
              "      <td>79084.10</td>\n",
              "      <td>0</td>\n",
              "    </tr>\n",
              "  </tbody>\n",
              "</table>\n",
              "</div>\n",
              "      <button class=\"colab-df-convert\" onclick=\"convertToInteractive('df-eff553e9-ae1f-48d2-9052-e2b184a97aa0')\"\n",
              "              title=\"Convert this dataframe to an interactive table.\"\n",
              "              style=\"display:none;\">\n",
              "        \n",
              "  <svg xmlns=\"http://www.w3.org/2000/svg\" height=\"24px\"viewBox=\"0 0 24 24\"\n",
              "       width=\"24px\">\n",
              "    <path d=\"M0 0h24v24H0V0z\" fill=\"none\"/>\n",
              "    <path d=\"M18.56 5.44l.94 2.06.94-2.06 2.06-.94-2.06-.94-.94-2.06-.94 2.06-2.06.94zm-11 1L8.5 8.5l.94-2.06 2.06-.94-2.06-.94L8.5 2.5l-.94 2.06-2.06.94zm10 10l.94 2.06.94-2.06 2.06-.94-2.06-.94-.94-2.06-.94 2.06-2.06.94z\"/><path d=\"M17.41 7.96l-1.37-1.37c-.4-.4-.92-.59-1.43-.59-.52 0-1.04.2-1.43.59L10.3 9.45l-7.72 7.72c-.78.78-.78 2.05 0 2.83L4 21.41c.39.39.9.59 1.41.59.51 0 1.02-.2 1.41-.59l7.78-7.78 2.81-2.81c.8-.78.8-2.07 0-2.86zM5.41 20L4 18.59l7.72-7.72 1.47 1.35L5.41 20z\"/>\n",
              "  </svg>\n",
              "      </button>\n",
              "      \n",
              "  <style>\n",
              "    .colab-df-container {\n",
              "      display:flex;\n",
              "      flex-wrap:wrap;\n",
              "      gap: 12px;\n",
              "    }\n",
              "\n",
              "    .colab-df-convert {\n",
              "      background-color: #E8F0FE;\n",
              "      border: none;\n",
              "      border-radius: 50%;\n",
              "      cursor: pointer;\n",
              "      display: none;\n",
              "      fill: #1967D2;\n",
              "      height: 32px;\n",
              "      padding: 0 0 0 0;\n",
              "      width: 32px;\n",
              "    }\n",
              "\n",
              "    .colab-df-convert:hover {\n",
              "      background-color: #E2EBFA;\n",
              "      box-shadow: 0px 1px 2px rgba(60, 64, 67, 0.3), 0px 1px 3px 1px rgba(60, 64, 67, 0.15);\n",
              "      fill: #174EA6;\n",
              "    }\n",
              "\n",
              "    [theme=dark] .colab-df-convert {\n",
              "      background-color: #3B4455;\n",
              "      fill: #D2E3FC;\n",
              "    }\n",
              "\n",
              "    [theme=dark] .colab-df-convert:hover {\n",
              "      background-color: #434B5C;\n",
              "      box-shadow: 0px 1px 3px 1px rgba(0, 0, 0, 0.15);\n",
              "      filter: drop-shadow(0px 1px 2px rgba(0, 0, 0, 0.3));\n",
              "      fill: #FFFFFF;\n",
              "    }\n",
              "  </style>\n",
              "\n",
              "      <script>\n",
              "        const buttonEl =\n",
              "          document.querySelector('#df-eff553e9-ae1f-48d2-9052-e2b184a97aa0 button.colab-df-convert');\n",
              "        buttonEl.style.display =\n",
              "          google.colab.kernel.accessAllowed ? 'block' : 'none';\n",
              "\n",
              "        async function convertToInteractive(key) {\n",
              "          const element = document.querySelector('#df-eff553e9-ae1f-48d2-9052-e2b184a97aa0');\n",
              "          const dataTable =\n",
              "            await google.colab.kernel.invokeFunction('convertToInteractive',\n",
              "                                                     [key], {});\n",
              "          if (!dataTable) return;\n",
              "\n",
              "          const docLinkHtml = 'Like what you see? Visit the ' +\n",
              "            '<a target=\"_blank\" href=https://colab.research.google.com/notebooks/data_table.ipynb>data table notebook</a>'\n",
              "            + ' to learn more about interactive tables.';\n",
              "          element.innerHTML = '';\n",
              "          dataTable['output_type'] = 'display_data';\n",
              "          await google.colab.output.renderOutput(dataTable, element);\n",
              "          const docLink = document.createElement('div');\n",
              "          docLink.innerHTML = docLinkHtml;\n",
              "          element.appendChild(docLink);\n",
              "        }\n",
              "      </script>\n",
              "    </div>\n",
              "  </div>\n",
              "  "
            ]
          },
          "metadata": {},
          "execution_count": 2
        }
      ]
    },
    {
      "cell_type": "code",
      "source": [
        "x= dataset.iloc[:, 3: 13].values\n",
        "y= dataset.iloc[:, 13].values"
      ],
      "metadata": {
        "id": "LPmo9Dv7Uv5M"
      },
      "execution_count": null,
      "outputs": []
    },
    {
      "cell_type": "code",
      "source": [
        "#encoding categorical data\n",
        "from sklearn.preprocessing import LabelEncoder, OneHotEncoder\n",
        "labelencoder_x1= LabelEncoder()\n",
        "x[:, 1]= labelencoder_x1.fit_transform(x[:, 1])"
      ],
      "metadata": {
        "id": "72SnBxFCW1if"
      },
      "execution_count": null,
      "outputs": []
    },
    {
      "cell_type": "code",
      "source": [
        "labelencoder_x2= LabelEncoder()\n",
        "x[:, 2]= labelencoder_x2.fit_transform(x[:, 2])"
      ],
      "metadata": {
        "id": "5xXnB5KUYZ1P"
      },
      "execution_count": null,
      "outputs": []
    },
    {
      "cell_type": "code",
      "source": [
        "x"
      ],
      "metadata": {
        "colab": {
          "base_uri": "https://localhost:8080/"
        },
        "id": "Eljxx_OpYcog",
        "outputId": "523adacd-5776-480b-b355-1c8ac9f79fbc"
      },
      "execution_count": null,
      "outputs": [
        {
          "output_type": "execute_result",
          "data": {
            "text/plain": [
              "array([[619, 0, 0, ..., 1, 1, 101348.88],\n",
              "       [608, 2, 0, ..., 0, 1, 112542.58],\n",
              "       [502, 0, 0, ..., 1, 0, 113931.57],\n",
              "       ...,\n",
              "       [709, 0, 0, ..., 0, 1, 42085.58],\n",
              "       [772, 1, 1, ..., 1, 0, 92888.52],\n",
              "       [792, 0, 0, ..., 1, 0, 38190.78]], dtype=object)"
            ]
          },
          "metadata": {},
          "execution_count": 6
        }
      ]
    },
    {
      "cell_type": "code",
      "source": [
        "from sklearn.preprocessing import OneHotEncoder\n",
        "from sklearn.compose import ColumnTransformer\n",
        "columnTransformer = ColumnTransformer([('encoder', OneHotEncoder(), [1])],     remainder='passthrough')\n",
        "x=np.array(columnTransformer.fit_transform(x),dtype=np.str)"
      ],
      "metadata": {
        "colab": {
          "base_uri": "https://localhost:8080/"
        },
        "id": "p1eL1F1oYvt1",
        "outputId": "1555cdb3-17f1-4a86-a0e5-4db03275a50b"
      },
      "execution_count": null,
      "outputs": [
        {
          "output_type": "stream",
          "name": "stderr",
          "text": [
            "<ipython-input-7-7fb9809a22c6>:4: DeprecationWarning: `np.str` is a deprecated alias for the builtin `str`. To silence this warning, use `str` by itself. Doing this will not modify any behavior and is safe. If you specifically wanted the numpy scalar type, use `np.str_` here.\n",
            "Deprecated in NumPy 1.20; for more details and guidance: https://numpy.org/devdocs/release/1.20.0-notes.html#deprecations\n",
            "  x=np.array(columnTransformer.fit_transform(x),dtype=np.str)\n"
          ]
        }
      ]
    },
    {
      "cell_type": "code",
      "source": [
        "print(x)"
      ],
      "metadata": {
        "colab": {
          "base_uri": "https://localhost:8080/"
        },
        "id": "-aRTiFrgZe9L",
        "outputId": "b40f6d8b-ba23-436f-990c-9d25661b91e6"
      },
      "execution_count": null,
      "outputs": [
        {
          "output_type": "stream",
          "name": "stdout",
          "text": [
            "[['1.0' '0.0' '0.0' ... '1' '1' '101348.88']\n",
            " ['0.0' '0.0' '1.0' ... '0' '1' '112542.58']\n",
            " ['1.0' '0.0' '0.0' ... '1' '0' '113931.57']\n",
            " ...\n",
            " ['1.0' '0.0' '0.0' ... '0' '1' '42085.58']\n",
            " ['0.0' '1.0' '0.0' ... '1' '0' '92888.52']\n",
            " ['1.0' '0.0' '0.0' ... '1' '0' '38190.78']]\n"
          ]
        }
      ]
    },
    {
      "cell_type": "code",
      "source": [
        "x= x[:, 1:]"
      ],
      "metadata": {
        "id": "v5k9T-kFacJv"
      },
      "execution_count": null,
      "outputs": []
    },
    {
      "cell_type": "code",
      "source": [
        "from sklearn.model_selection import train_test_split\n",
        "x_train, x_test, y_train, y_test= train_test_split(x, y, test_size= 0.2, random_state= 0)"
      ],
      "metadata": {
        "id": "2MhK1plWbFSQ"
      },
      "execution_count": null,
      "outputs": []
    },
    {
      "cell_type": "code",
      "source": [
        "#feature scaling\n",
        "from sklearn.preprocessing import StandardScaler\n",
        "sc= StandardScaler()\n",
        "x_train= sc.fit_transform(x_train)\n",
        "x_test= sc.transform(x_test)"
      ],
      "metadata": {
        "id": "yXsv-OSUb7Tj"
      },
      "execution_count": null,
      "outputs": []
    },
    {
      "cell_type": "code",
      "source": [
        "import keras"
      ],
      "metadata": {
        "id": "OwD4d3Y2cwmw"
      },
      "execution_count": null,
      "outputs": []
    },
    {
      "cell_type": "code",
      "source": [
        "from keras.models import Sequential #used to initialize NN\n",
        "from keras.layers import Dense #used to create layers\n"
      ],
      "metadata": {
        "id": "M6zlcFhiiQHZ"
      },
      "execution_count": null,
      "outputs": []
    },
    {
      "cell_type": "code",
      "source": [
        "#initializing ANN\n",
        "classifier= Sequential()"
      ],
      "metadata": {
        "id": "SR1eK373lTcv"
      },
      "execution_count": null,
      "outputs": []
    },
    {
      "cell_type": "code",
      "source": [
        "#adding input layer and first hidden layer\n",
        "classifier.add(Dense(6, activation= 'relu', input_dim= 11)) #output_dim is no. of nodes in the hidden layer, init is the initializing method, 11 bcoz we have 11 indeoendent variables"
      ],
      "metadata": {
        "id": "YwwxGSBZnDcr"
      },
      "execution_count": null,
      "outputs": []
    },
    {
      "cell_type": "code",
      "source": [
        "#adding 2nd hidden layer\n",
        "classifier.add(Dense(6, activation= 'relu'))"
      ],
      "metadata": {
        "id": "_UylyHVzDF8w"
      },
      "execution_count": null,
      "outputs": []
    },
    {
      "cell_type": "code",
      "source": [
        "#adding output layer\n",
        "classifier.add(Dense(1, activation= 'sigmoid'))"
      ],
      "metadata": {
        "id": "sQDiZW5lSbgQ"
      },
      "execution_count": null,
      "outputs": []
    },
    {
      "cell_type": "code",
      "source": [
        "#compiling the model\n",
        "classifier.compile(optimizer= 'adam', loss='binary_crossentropy', metrics= ['accuracy'])\n"
      ],
      "metadata": {
        "id": "3wLM5VckTlXO"
      },
      "execution_count": null,
      "outputs": []
    },
    {
      "cell_type": "code",
      "source": [
        "#fitting the ANN to the training set\n",
        "classifier.fit(x_train, y_train, batch_size=10, epochs= 100)"
      ],
      "metadata": {
        "colab": {
          "base_uri": "https://localhost:8080/"
        },
        "id": "42oXibiOdty7",
        "outputId": "d7fa6133-c24d-41f1-8b27-959ff42b0cb6"
      },
      "execution_count": null,
      "outputs": [
        {
          "output_type": "stream",
          "name": "stdout",
          "text": [
            "Epoch 1/100\n",
            "800/800 [==============================] - 8s 3ms/step - loss: 0.5820 - accuracy: 0.7206\n",
            "Epoch 2/100\n",
            "800/800 [==============================] - 2s 3ms/step - loss: 0.4473 - accuracy: 0.8015\n",
            "Epoch 3/100\n",
            "800/800 [==============================] - 2s 3ms/step - loss: 0.4308 - accuracy: 0.8084\n",
            "Epoch 4/100\n",
            "800/800 [==============================] - 2s 3ms/step - loss: 0.4199 - accuracy: 0.8136\n",
            "Epoch 5/100\n",
            "800/800 [==============================] - 2s 3ms/step - loss: 0.4017 - accuracy: 0.8245\n",
            "Epoch 6/100\n",
            "800/800 [==============================] - 2s 3ms/step - loss: 0.3805 - accuracy: 0.8388\n",
            "Epoch 7/100\n",
            "800/800 [==============================] - 3s 3ms/step - loss: 0.3664 - accuracy: 0.8446\n",
            "Epoch 8/100\n",
            "800/800 [==============================] - 2s 3ms/step - loss: 0.3590 - accuracy: 0.8472\n",
            "Epoch 9/100\n",
            "800/800 [==============================] - 2s 3ms/step - loss: 0.3546 - accuracy: 0.8515\n",
            "Epoch 10/100\n",
            "800/800 [==============================] - 2s 3ms/step - loss: 0.3518 - accuracy: 0.8553\n",
            "Epoch 11/100\n",
            "800/800 [==============================] - 2s 3ms/step - loss: 0.3492 - accuracy: 0.8556\n",
            "Epoch 12/100\n",
            "800/800 [==============================] - 4s 5ms/step - loss: 0.3473 - accuracy: 0.8562\n",
            "Epoch 13/100\n",
            "800/800 [==============================] - 2s 3ms/step - loss: 0.3458 - accuracy: 0.8609\n",
            "Epoch 14/100\n",
            "800/800 [==============================] - 2s 3ms/step - loss: 0.3449 - accuracy: 0.8594\n",
            "Epoch 15/100\n",
            "800/800 [==============================] - 2s 3ms/step - loss: 0.3434 - accuracy: 0.8612\n",
            "Epoch 16/100\n",
            "800/800 [==============================] - 3s 4ms/step - loss: 0.3431 - accuracy: 0.8596\n",
            "Epoch 17/100\n",
            "800/800 [==============================] - 3s 4ms/step - loss: 0.3421 - accuracy: 0.8605\n",
            "Epoch 18/100\n",
            "800/800 [==============================] - 2s 3ms/step - loss: 0.3413 - accuracy: 0.8608\n",
            "Epoch 19/100\n",
            "800/800 [==============================] - 2s 3ms/step - loss: 0.3406 - accuracy: 0.8619\n",
            "Epoch 20/100\n",
            "800/800 [==============================] - 2s 3ms/step - loss: 0.3397 - accuracy: 0.8626\n",
            "Epoch 21/100\n",
            "800/800 [==============================] - 3s 4ms/step - loss: 0.3399 - accuracy: 0.8618\n",
            "Epoch 22/100\n",
            "800/800 [==============================] - 3s 4ms/step - loss: 0.3387 - accuracy: 0.8618\n",
            "Epoch 23/100\n",
            "800/800 [==============================] - 2s 3ms/step - loss: 0.3378 - accuracy: 0.8633\n",
            "Epoch 24/100\n",
            "800/800 [==============================] - 2s 3ms/step - loss: 0.3379 - accuracy: 0.8625\n",
            "Epoch 25/100\n",
            "800/800 [==============================] - 3s 3ms/step - loss: 0.3379 - accuracy: 0.8640\n",
            "Epoch 26/100\n",
            "800/800 [==============================] - 2s 3ms/step - loss: 0.3370 - accuracy: 0.8627\n",
            "Epoch 27/100\n",
            "800/800 [==============================] - 3s 4ms/step - loss: 0.3375 - accuracy: 0.8636\n",
            "Epoch 28/100\n",
            "800/800 [==============================] - 2s 3ms/step - loss: 0.3362 - accuracy: 0.8626\n",
            "Epoch 29/100\n",
            "800/800 [==============================] - 2s 3ms/step - loss: 0.3370 - accuracy: 0.8637\n",
            "Epoch 30/100\n",
            "800/800 [==============================] - 2s 3ms/step - loss: 0.3360 - accuracy: 0.8648\n",
            "Epoch 31/100\n",
            "800/800 [==============================] - 2s 3ms/step - loss: 0.3363 - accuracy: 0.8631\n",
            "Epoch 32/100\n",
            "800/800 [==============================] - 3s 4ms/step - loss: 0.3359 - accuracy: 0.8639\n",
            "Epoch 33/100\n",
            "800/800 [==============================] - 2s 3ms/step - loss: 0.3355 - accuracy: 0.8630\n",
            "Epoch 34/100\n",
            "800/800 [==============================] - 2s 3ms/step - loss: 0.3353 - accuracy: 0.8645\n",
            "Epoch 35/100\n",
            "800/800 [==============================] - 2s 3ms/step - loss: 0.3352 - accuracy: 0.8639\n",
            "Epoch 36/100\n",
            "800/800 [==============================] - 2s 3ms/step - loss: 0.3355 - accuracy: 0.8625\n",
            "Epoch 37/100\n",
            "800/800 [==============================] - 2s 3ms/step - loss: 0.3352 - accuracy: 0.8646\n",
            "Epoch 38/100\n",
            "800/800 [==============================] - 3s 3ms/step - loss: 0.3347 - accuracy: 0.8636\n",
            "Epoch 39/100\n",
            "800/800 [==============================] - 2s 3ms/step - loss: 0.3345 - accuracy: 0.8643\n",
            "Epoch 40/100\n",
            "800/800 [==============================] - 2s 3ms/step - loss: 0.3349 - accuracy: 0.8629\n",
            "Epoch 41/100\n",
            "800/800 [==============================] - 2s 3ms/step - loss: 0.3345 - accuracy: 0.8641\n",
            "Epoch 42/100\n",
            "800/800 [==============================] - 2s 3ms/step - loss: 0.3345 - accuracy: 0.8639\n",
            "Epoch 43/100\n",
            "800/800 [==============================] - 3s 4ms/step - loss: 0.3348 - accuracy: 0.8636\n",
            "Epoch 44/100\n",
            "800/800 [==============================] - 2s 3ms/step - loss: 0.3342 - accuracy: 0.8627\n",
            "Epoch 45/100\n",
            "800/800 [==============================] - 2s 3ms/step - loss: 0.3345 - accuracy: 0.8641\n",
            "Epoch 46/100\n",
            "800/800 [==============================] - 2s 3ms/step - loss: 0.3338 - accuracy: 0.8656\n",
            "Epoch 47/100\n",
            "800/800 [==============================] - 2s 3ms/step - loss: 0.3338 - accuracy: 0.8636\n",
            "Epoch 48/100\n",
            "800/800 [==============================] - 3s 4ms/step - loss: 0.3337 - accuracy: 0.8652\n",
            "Epoch 49/100\n",
            "800/800 [==============================] - 2s 3ms/step - loss: 0.3337 - accuracy: 0.8643\n",
            "Epoch 50/100\n",
            "800/800 [==============================] - 2s 3ms/step - loss: 0.3329 - accuracy: 0.8646\n",
            "Epoch 51/100\n",
            "800/800 [==============================] - 2s 3ms/step - loss: 0.3333 - accuracy: 0.8625\n",
            "Epoch 52/100\n",
            "800/800 [==============================] - 2s 3ms/step - loss: 0.3332 - accuracy: 0.8633\n",
            "Epoch 53/100\n",
            "800/800 [==============================] - 3s 3ms/step - loss: 0.3327 - accuracy: 0.8634\n",
            "Epoch 54/100\n",
            "800/800 [==============================] - 2s 3ms/step - loss: 0.3326 - accuracy: 0.8654\n",
            "Epoch 55/100\n",
            "800/800 [==============================] - 2s 3ms/step - loss: 0.3326 - accuracy: 0.8641\n",
            "Epoch 56/100\n",
            "800/800 [==============================] - 2s 3ms/step - loss: 0.3320 - accuracy: 0.8644\n",
            "Epoch 57/100\n",
            "800/800 [==============================] - 2s 3ms/step - loss: 0.3324 - accuracy: 0.8634\n",
            "Epoch 58/100\n",
            "800/800 [==============================] - 2s 3ms/step - loss: 0.3323 - accuracy: 0.8636\n",
            "Epoch 59/100\n",
            "800/800 [==============================] - 3s 4ms/step - loss: 0.3322 - accuracy: 0.8637\n",
            "Epoch 60/100\n",
            "800/800 [==============================] - 2s 3ms/step - loss: 0.3316 - accuracy: 0.8640\n",
            "Epoch 61/100\n",
            "800/800 [==============================] - 2s 3ms/step - loss: 0.3316 - accuracy: 0.8644\n",
            "Epoch 62/100\n",
            "800/800 [==============================] - 2s 3ms/step - loss: 0.3319 - accuracy: 0.8636\n",
            "Epoch 63/100\n",
            "800/800 [==============================] - 2s 3ms/step - loss: 0.3314 - accuracy: 0.8620\n",
            "Epoch 64/100\n",
            "800/800 [==============================] - 3s 3ms/step - loss: 0.3319 - accuracy: 0.8635\n",
            "Epoch 65/100\n",
            "800/800 [==============================] - 2s 3ms/step - loss: 0.3313 - accuracy: 0.8633\n",
            "Epoch 66/100\n",
            "800/800 [==============================] - 2s 3ms/step - loss: 0.3310 - accuracy: 0.8639\n",
            "Epoch 67/100\n",
            "800/800 [==============================] - 2s 3ms/step - loss: 0.3319 - accuracy: 0.8641\n",
            "Epoch 68/100\n",
            "800/800 [==============================] - 2s 3ms/step - loss: 0.3318 - accuracy: 0.8646\n",
            "Epoch 69/100\n",
            "800/800 [==============================] - 2s 3ms/step - loss: 0.3315 - accuracy: 0.8640\n",
            "Epoch 70/100\n",
            "800/800 [==============================] - 3s 3ms/step - loss: 0.3315 - accuracy: 0.8635\n",
            "Epoch 71/100\n",
            "800/800 [==============================] - 2s 3ms/step - loss: 0.3318 - accuracy: 0.8650\n",
            "Epoch 72/100\n",
            "800/800 [==============================] - 2s 3ms/step - loss: 0.3313 - accuracy: 0.8651\n",
            "Epoch 73/100\n",
            "800/800 [==============================] - 2s 3ms/step - loss: 0.3314 - accuracy: 0.8651\n",
            "Epoch 74/100\n",
            "800/800 [==============================] - 2s 3ms/step - loss: 0.3306 - accuracy: 0.8644\n",
            "Epoch 75/100\n",
            "800/800 [==============================] - 3s 3ms/step - loss: 0.3315 - accuracy: 0.8640\n",
            "Epoch 76/100\n",
            "800/800 [==============================] - 2s 3ms/step - loss: 0.3310 - accuracy: 0.8648\n",
            "Epoch 77/100\n",
            "800/800 [==============================] - 2s 3ms/step - loss: 0.3311 - accuracy: 0.8655\n",
            "Epoch 78/100\n",
            "800/800 [==============================] - 2s 3ms/step - loss: 0.3312 - accuracy: 0.8641\n",
            "Epoch 79/100\n",
            "800/800 [==============================] - 2s 3ms/step - loss: 0.3311 - accuracy: 0.8641\n",
            "Epoch 80/100\n",
            "800/800 [==============================] - 2s 3ms/step - loss: 0.3312 - accuracy: 0.8662\n",
            "Epoch 81/100\n",
            "800/800 [==============================] - 3s 3ms/step - loss: 0.3308 - accuracy: 0.8656\n",
            "Epoch 82/100\n",
            "800/800 [==============================] - 2s 3ms/step - loss: 0.3312 - accuracy: 0.8636\n",
            "Epoch 83/100\n",
            "800/800 [==============================] - 2s 3ms/step - loss: 0.3305 - accuracy: 0.8654\n",
            "Epoch 84/100\n",
            "800/800 [==============================] - 2s 3ms/step - loss: 0.3307 - accuracy: 0.8639\n",
            "Epoch 85/100\n",
            "800/800 [==============================] - 2s 3ms/step - loss: 0.3305 - accuracy: 0.8652\n",
            "Epoch 86/100\n",
            "800/800 [==============================] - 3s 4ms/step - loss: 0.3307 - accuracy: 0.8633\n",
            "Epoch 87/100\n",
            "800/800 [==============================] - 2s 3ms/step - loss: 0.3307 - accuracy: 0.8648\n",
            "Epoch 88/100\n",
            "800/800 [==============================] - 2s 3ms/step - loss: 0.3295 - accuracy: 0.8641\n",
            "Epoch 89/100\n",
            "800/800 [==============================] - 2s 3ms/step - loss: 0.3311 - accuracy: 0.8639\n",
            "Epoch 90/100\n",
            "800/800 [==============================] - 2s 3ms/step - loss: 0.3304 - accuracy: 0.8659\n",
            "Epoch 91/100\n",
            "800/800 [==============================] - 2s 3ms/step - loss: 0.3305 - accuracy: 0.8666\n",
            "Epoch 92/100\n",
            "800/800 [==============================] - 3s 3ms/step - loss: 0.3303 - accuracy: 0.8641\n",
            "Epoch 93/100\n",
            "800/800 [==============================] - 2s 3ms/step - loss: 0.3304 - accuracy: 0.8652\n",
            "Epoch 94/100\n",
            "800/800 [==============================] - 2s 3ms/step - loss: 0.3309 - accuracy: 0.8631\n",
            "Epoch 95/100\n",
            "800/800 [==============================] - 2s 3ms/step - loss: 0.3306 - accuracy: 0.8648\n",
            "Epoch 96/100\n",
            "800/800 [==============================] - 2s 3ms/step - loss: 0.3305 - accuracy: 0.8658\n",
            "Epoch 97/100\n",
            "800/800 [==============================] - 3s 4ms/step - loss: 0.3304 - accuracy: 0.8650\n",
            "Epoch 98/100\n",
            "800/800 [==============================] - 2s 3ms/step - loss: 0.3308 - accuracy: 0.8651\n",
            "Epoch 99/100\n",
            "800/800 [==============================] - 2s 3ms/step - loss: 0.3302 - accuracy: 0.8660\n",
            "Epoch 100/100\n",
            "800/800 [==============================] - 2s 3ms/step - loss: 0.3306 - accuracy: 0.8655\n"
          ]
        },
        {
          "output_type": "execute_result",
          "data": {
            "text/plain": [
              "<keras.callbacks.History at 0x7f4b99efea70>"
            ]
          },
          "metadata": {},
          "execution_count": 20
        }
      ]
    },
    {
      "cell_type": "code",
      "source": [
        "#predicting the test set results, predicting the probabilites\n",
        "y_pred= classifier.predict(x_test)"
      ],
      "metadata": {
        "colab": {
          "base_uri": "https://localhost:8080/"
        },
        "id": "7iljP2Jhgpbk",
        "outputId": "7c4a92ac-caa9-4a6c-a875-b390984b8bc9"
      },
      "execution_count": null,
      "outputs": [
        {
          "output_type": "stream",
          "name": "stdout",
          "text": [
            "63/63 [==============================] - 0s 3ms/step\n"
          ]
        }
      ]
    },
    {
      "cell_type": "code",
      "source": [
        "y_pred= (y_pred>0.5)"
      ],
      "metadata": {
        "id": "xvyCMKO7nnDO"
      },
      "execution_count": null,
      "outputs": []
    },
    {
      "cell_type": "code",
      "source": [
        "y_pred"
      ],
      "metadata": {
        "colab": {
          "base_uri": "https://localhost:8080/"
        },
        "id": "LnqKzSuZimLF",
        "outputId": "c0b23a8d-c7e0-4f61-e796-b888ea890f86"
      },
      "execution_count": null,
      "outputs": [
        {
          "output_type": "execute_result",
          "data": {
            "text/plain": [
              "array([[False],\n",
              "       [False],\n",
              "       [False],\n",
              "       ...,\n",
              "       [False],\n",
              "       [False],\n",
              "       [False]])"
            ]
          },
          "metadata": {},
          "execution_count": 25
        }
      ]
    },
    {
      "cell_type": "code",
      "source": [
        "#creating confusion matrix\n",
        "from sklearn.metrics import confusion_matrix\n",
        "cm= confusion_matrix(y_test, y_pred)\n",
        "cm"
      ],
      "metadata": {
        "colab": {
          "base_uri": "https://localhost:8080/"
        },
        "id": "jydCdm56m8R4",
        "outputId": "dd6345d8-717b-4e70-c38e-83537ddb86a2"
      },
      "execution_count": null,
      "outputs": [
        {
          "output_type": "execute_result",
          "data": {
            "text/plain": [
              "array([[1497,   98],\n",
              "       [ 197,  208]])"
            ]
          },
          "metadata": {},
          "execution_count": 26
        }
      ]
    },
    {
      "cell_type": "code",
      "source": [],
      "metadata": {
        "id": "MmZaMqImnL9k"
      },
      "execution_count": null,
      "outputs": []
    }
  ]
}