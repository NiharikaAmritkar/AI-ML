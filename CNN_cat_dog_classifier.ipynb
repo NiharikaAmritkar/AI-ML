{
  "nbformat": 4,
  "nbformat_minor": 0,
  "metadata": {
    "colab": {
      "provenance": [],
      "mount_file_id": "1-2e0akhVmmNrK4CwMdGUdymx0VIQhrr3",
      "authorship_tag": "ABX9TyNgOe5guVi/HdtFTK35+Xks",
      "include_colab_link": true
    },
    "kernelspec": {
      "name": "python3",
      "display_name": "Python 3"
    },
    "language_info": {
      "name": "python"
    }
  },
  "cells": [
    {
      "cell_type": "markdown",
      "metadata": {
        "id": "view-in-github",
        "colab_type": "text"
      },
      "source": [
        "<a href=\"https://colab.research.google.com/github/NiharikaAmritkar/AI-ML/blob/main/CNN_cat_dog_classifier.ipynb\" target=\"_parent\"><img src=\"https://colab.research.google.com/assets/colab-badge.svg\" alt=\"Open In Colab\"/></a>"
      ]
    },
    {
      "cell_type": "code",
      "execution_count": 1,
      "metadata": {
        "id": "1H6uBmEK2ukg"
      },
      "outputs": [],
      "source": [
        "from keras.models import Sequential\n",
        "from keras.layers import Convolution2D\n",
        "from keras.layers import MaxPooling2D\n",
        "from keras.layers import Flatten\n",
        "from keras.layers import Dense"
      ]
    },
    {
      "cell_type": "code",
      "source": [
        "#initializing CNN\n",
        "classifier= Sequential()"
      ],
      "metadata": {
        "id": "OoeqTuDgFusX"
      },
      "execution_count": 2,
      "outputs": []
    },
    {
      "cell_type": "code",
      "source": [
        "#convolution\n",
        "classifier.add(Convolution2D(32, 3, 3, input_shape= (64, 64, 3), activation = 'relu')) #32 is no. of filters and 3, 3 is no. of rows and columns of the filter"
      ],
      "metadata": {
        "id": "fNOq6NfLGohV"
      },
      "execution_count": 3,
      "outputs": []
    },
    {
      "cell_type": "code",
      "source": [
        "#pooling\n",
        "classifier.add(MaxPooling2D(pool_size= (2,2)))"
      ],
      "metadata": {
        "id": "YMMVTovm5M5o"
      },
      "execution_count": 4,
      "outputs": []
    },
    {
      "cell_type": "code",
      "source": [
        "#flattening\n",
        "classifier.add(Flatten())"
      ],
      "metadata": {
        "id": "YXK_13x17HFj"
      },
      "execution_count": 5,
      "outputs": []
    },
    {
      "cell_type": "code",
      "source": [
        "#full connection\n",
        "classifier.add(Dense( 128, activation= 'relu')) #units is no. of nodes in the hidden layer\n",
        "classifier.add(Dense( 1, activation= 'sigmoid')) #output layer"
      ],
      "metadata": {
        "id": "oJ8qDH0X8huv"
      },
      "execution_count": 6,
      "outputs": []
    },
    {
      "cell_type": "code",
      "source": [
        "#compiling CNN\n",
        "classifier.compile(optimizer='adam', loss= 'binary_crossentropy', metrics= ['accuracy'])"
      ],
      "metadata": {
        "id": "Mrp8o5hlPCO0"
      },
      "execution_count": 7,
      "outputs": []
    },
    {
      "cell_type": "code",
      "source": [
        "from google.colab import drive\n",
        "drive.mount('/content/drive')"
      ],
      "metadata": {
        "id": "kHgRedh5DuS4",
        "colab": {
          "base_uri": "https://localhost:8080/"
        },
        "outputId": "38f25d93-6d78-4d0a-ebfc-267765f6ce8b"
      },
      "execution_count": 9,
      "outputs": [
        {
          "output_type": "stream",
          "name": "stdout",
          "text": [
            "Drive already mounted at /content/drive; to attempt to forcibly remount, call drive.mount(\"/content/drive\", force_remount=True).\n"
          ]
        }
      ]
    },
    {
      "cell_type": "code",
      "source": [
        "#fitting the CNN to the images\n",
        "from keras.preprocessing.image import ImageDataGenerator\n",
        "train_datagen= ImageDataGenerator(\n",
        "    rescale= 1./255,\n",
        "    shear_range= 0.2,\n",
        "    zoom_range= 0.2,\n",
        "    horizontal_flip= True\n",
        ")\n",
        "\n",
        "test_datagen= ImageDataGenerator(rescale= 1./255)\n",
        "\n",
        "training_set= train_datagen.flow_from_directory('/content/drive/MyDrive/training_set',\n",
        "                                                target_size=(64, 64),\n",
        "                                                batch_size= 128,\n",
        "                                                class_mode='binary') #target size is the size of images expected in the CNN model\n",
        "\n",
        "test_set= test_datagen.flow_from_directory('/content/drive/MyDrive/test_set',\n",
        "                                           target_size=(64, 64),\n",
        "                                           batch_size= 128,\n",
        "                                           class_mode='binary')\n",
        "\n",
        "classifier.fit_generator(training_set,\n",
        "                    epochs= 25,\n",
        "                    validation_data= test_set,\n",
        "                    )"
      ],
      "metadata": {
        "colab": {
          "base_uri": "https://localhost:8080/"
        },
        "id": "S7wkleOiJnUB",
        "outputId": "ee890dc4-dfea-4f60-90fe-011f9d939919"
      },
      "execution_count": 15,
      "outputs": [
        {
          "output_type": "stream",
          "name": "stdout",
          "text": [
            "Found 8000 images belonging to 2 classes.\n",
            "Found 2000 images belonging to 2 classes.\n"
          ]
        },
        {
          "output_type": "stream",
          "name": "stderr",
          "text": [
            "<ipython-input-15-3d25aa90223c>:22: UserWarning: `Model.fit_generator` is deprecated and will be removed in a future version. Please use `Model.fit`, which supports generators.\n",
            "  classifier.fit_generator(training_set,\n"
          ]
        },
        {
          "output_type": "stream",
          "name": "stdout",
          "text": [
            "Epoch 1/25\n",
            "63/63 [==============================] - 62s 980ms/step - loss: 0.5702 - accuracy: 0.6976 - val_loss: 0.5771 - val_accuracy: 0.7005\n",
            "Epoch 2/25\n",
            "63/63 [==============================] - 64s 1s/step - loss: 0.5537 - accuracy: 0.7194 - val_loss: 0.5687 - val_accuracy: 0.7140\n",
            "Epoch 3/25\n",
            "63/63 [==============================] - 60s 950ms/step - loss: 0.5505 - accuracy: 0.7128 - val_loss: 0.5871 - val_accuracy: 0.6925\n",
            "Epoch 4/25\n",
            "63/63 [==============================] - 60s 957ms/step - loss: 0.5341 - accuracy: 0.7358 - val_loss: 0.6056 - val_accuracy: 0.6810\n",
            "Epoch 5/25\n",
            "63/63 [==============================] - 64s 1s/step - loss: 0.5322 - accuracy: 0.7304 - val_loss: 0.5268 - val_accuracy: 0.7395\n",
            "Epoch 6/25\n",
            "63/63 [==============================] - 61s 966ms/step - loss: 0.5193 - accuracy: 0.7434 - val_loss: 0.5870 - val_accuracy: 0.7020\n",
            "Epoch 7/25\n",
            "63/63 [==============================] - 62s 992ms/step - loss: 0.5146 - accuracy: 0.7458 - val_loss: 0.5198 - val_accuracy: 0.7530\n",
            "Epoch 8/25\n",
            "63/63 [==============================] - 64s 1s/step - loss: 0.5055 - accuracy: 0.7515 - val_loss: 0.5090 - val_accuracy: 0.7510\n",
            "Epoch 9/25\n",
            "63/63 [==============================] - 60s 961ms/step - loss: 0.4971 - accuracy: 0.7585 - val_loss: 0.5319 - val_accuracy: 0.7425\n",
            "Epoch 10/25\n",
            "63/63 [==============================] - 71s 1s/step - loss: 0.4960 - accuracy: 0.7550 - val_loss: 0.5123 - val_accuracy: 0.7615\n",
            "Epoch 11/25\n",
            "63/63 [==============================] - 60s 943ms/step - loss: 0.4930 - accuracy: 0.7555 - val_loss: 0.5053 - val_accuracy: 0.7555\n",
            "Epoch 12/25\n",
            "63/63 [==============================] - 62s 980ms/step - loss: 0.4882 - accuracy: 0.7667 - val_loss: 0.5067 - val_accuracy: 0.7585\n",
            "Epoch 13/25\n",
            "63/63 [==============================] - 61s 966ms/step - loss: 0.4913 - accuracy: 0.7594 - val_loss: 0.4983 - val_accuracy: 0.7640\n",
            "Epoch 14/25\n",
            "63/63 [==============================] - 59s 945ms/step - loss: 0.4760 - accuracy: 0.7700 - val_loss: 0.4971 - val_accuracy: 0.7695\n",
            "Epoch 15/25\n",
            "63/63 [==============================] - 61s 973ms/step - loss: 0.4692 - accuracy: 0.7760 - val_loss: 0.5025 - val_accuracy: 0.7610\n",
            "Epoch 16/25\n",
            "63/63 [==============================] - 70s 1s/step - loss: 0.4660 - accuracy: 0.7736 - val_loss: 0.5139 - val_accuracy: 0.7550\n",
            "Epoch 17/25\n",
            "63/63 [==============================] - 61s 969ms/step - loss: 0.4703 - accuracy: 0.7729 - val_loss: 0.5674 - val_accuracy: 0.7220\n",
            "Epoch 18/25\n",
            "63/63 [==============================] - 59s 943ms/step - loss: 0.4644 - accuracy: 0.7772 - val_loss: 0.5006 - val_accuracy: 0.7605\n",
            "Epoch 19/25\n",
            "63/63 [==============================] - 62s 984ms/step - loss: 0.4675 - accuracy: 0.7731 - val_loss: 0.5284 - val_accuracy: 0.7380\n",
            "Epoch 20/25\n",
            "63/63 [==============================] - 62s 978ms/step - loss: 0.4620 - accuracy: 0.7793 - val_loss: 0.4916 - val_accuracy: 0.7705\n",
            "Epoch 21/25\n",
            "63/63 [==============================] - 62s 987ms/step - loss: 0.4536 - accuracy: 0.7803 - val_loss: 0.4945 - val_accuracy: 0.7580\n",
            "Epoch 22/25\n",
            "63/63 [==============================] - 62s 996ms/step - loss: 0.4595 - accuracy: 0.7812 - val_loss: 0.4844 - val_accuracy: 0.7670\n",
            "Epoch 23/25\n",
            "63/63 [==============================] - 61s 969ms/step - loss: 0.4476 - accuracy: 0.7878 - val_loss: 0.4946 - val_accuracy: 0.7620\n",
            "Epoch 24/25\n",
            "63/63 [==============================] - 60s 950ms/step - loss: 0.4445 - accuracy: 0.7843 - val_loss: 0.4866 - val_accuracy: 0.7615\n",
            "Epoch 25/25\n",
            "63/63 [==============================] - 63s 1s/step - loss: 0.4346 - accuracy: 0.8016 - val_loss: 0.5176 - val_accuracy: 0.7505\n"
          ]
        },
        {
          "output_type": "execute_result",
          "data": {
            "text/plain": [
              "<keras.callbacks.History at 0x7fbeb0691b10>"
            ]
          },
          "metadata": {},
          "execution_count": 15
        }
      ]
    },
    {
      "cell_type": "code",
      "source": [
        "import pandas as pd\n",
        "metrics=pd.DataFrame(classifier.history.history)"
      ],
      "metadata": {
        "id": "Vbog3MtOkvh2"
      },
      "execution_count": 21,
      "outputs": []
    },
    {
      "cell_type": "code",
      "source": [
        "metrics.plot()"
      ],
      "metadata": {
        "colab": {
          "base_uri": "https://localhost:8080/",
          "height": 447
        },
        "id": "EKzB_6jQm9A6",
        "outputId": "9070ba84-6d24-4900-e820-b5aa97195854"
      },
      "execution_count": 22,
      "outputs": [
        {
          "output_type": "execute_result",
          "data": {
            "text/plain": [
              "<Axes: >"
            ]
          },
          "metadata": {},
          "execution_count": 22
        },
        {
          "output_type": "display_data",
          "data": {
            "text/plain": [
              "<Figure size 640x480 with 1 Axes>"
            ],
            "image/png": "[encoded data removed]"
          },
          "metadata": {}
        }
      ]
    },
    {
      "cell_type": "code",
      "source": [
        "classifier.evaluate(test_set)"
      ],
      "metadata": {
        "colab": {
          "base_uri": "https://localhost:8080/"
        },
        "id": "lTNPyMM7nY0p",
        "outputId": "07a8a4b9-8175-4344-9b3b-be5df586f12b"
      },
      "execution_count": 23,
      "outputs": [
        {
          "output_type": "stream",
          "name": "stdout",
          "text": [
            "16/16 [==============================] - 9s 559ms/step - loss: 0.5038 - accuracy: 0.7560\n"
          ]
        },
        {
          "output_type": "execute_result",
          "data": {
            "text/plain": [
              "[0.5038263201713562, 0.7559999823570251]"
            ]
          },
          "metadata": {},
          "execution_count": 23
        }
      ]
    },
    {
      "cell_type": "code",
      "source": [],
      "metadata": {
        "id": "36IRrzdinucF"
      },
      "execution_count": null,
      "outputs": []
    }
  ]
}